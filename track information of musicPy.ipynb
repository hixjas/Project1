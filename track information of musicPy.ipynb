{
 "cells": [
  {
   "cell_type": "markdown",
   "metadata": {},
   "source": [
    "# Import Required Libraries\n",
    "Import the necessary libraries, such as pandas for data manipulation."
   ]
  },
  {
   "cell_type": "code",
   "execution_count": null,
   "metadata": {},
   "outputs": [],
   "source": [
    "import pandas as pd  # Import pandas for data manipulation\n",
    "import numpy as np  # Import numpy for numerical operations\n",
    "import matplotlib.pyplot as plt  # Import matplotlib for plotting\n",
    "import seaborn as sns  # Import seaborn for advanced visualizations"
   ]
  },
  {
   "cell_type": "markdown",
   "metadata": {},
   "source": [
    "# Define Data Structure\n",
    "Define a pandas DataFrame to hold the track information with columns for Album Name, Artist, Release Date, ISRC, All Time Rank, Track Score, Spotify Streams, Spotify Playlist Count, Spotify Playlist Reach, Spotify Popularity, YouTube Views, YouTube Likes, TikTok Posts, TikTok Likes, TikTok Views, YouTube Playlist Reach, Apple Music Playlist Count, AirPlay Spins, SiriusXM Spins, Deezer Playlist Count, Deezer Playlist Reach, Amazon Playlist Count, Pandora Streams, Pandora Track Stations, Soundcloud Streams, Shazam Counts, and Explicit Track."
   ]
  },
  {
   "cell_type": "code",
   "execution_count": null,
   "metadata": {},
   "outputs": [],
   "source": [
    "# Define the DataFrame to hold the track information\n",
    "columns = [\n",
    "    \"Album Name\", \"Artist\", \"Release Date\", \"ISRC\", \"All Time Rank\", \"Track Score\",\n",
    "    \"Spotify Streams\", \"Spotify Playlist Count\", \"Spotify Playlist Reach\", \"Spotify Popularity\",\n",
    "    \"YouTube Views\", \"YouTube Likes\", \"TikTok Posts\", \"TikTok Likes\", \"TikTok Views\",\n",
    "    \"YouTube Playlist Reach\", \"Apple Music Playlist Count\", \"AirPlay Spins\", \"SiriusXM Spins\",\n",
    "    \"Deezer Playlist Count\", \"Deezer Playlist Reach\", \"Amazon Playlist Count\", \"Pandora Streams\",\n",
    "    \"Pandora Track Stations\", \"Soundcloud Streams\", \"Shazam Counts\", \"Explicit Track\"\n",
    "]\n",
    "\n",
    "# Create an empty DataFrame with the specified columns\n",
    "track_data = pd.DataFrame(columns=columns)\n",
    "\n",
    "# Display the empty DataFrame\n",
    "track_data"
   ]
  },
  {
   "cell_type": "markdown",
   "metadata": {},
   "source": [
    "# Add Track Information\n",
    "Add sample data to the DataFrame for each track metric."
   ]
  },
  {
   "cell_type": "code",
   "execution_count": null,
   "metadata": {},
   "outputs": [],
   "source": [
    "# Add sample data to the DataFrame for each track metric\n",
    "sample_data = {\n",
    "    \"Album Name\": [\"Album1\", \"Album2\"],\n",
    "    \"Artist\": [\"Artist1\", \"Artist2\"],\n",
    "    \"Release Date\": [\"2023-01-01\", \"2023-02-01\"],\n",
    "    \"ISRC\": [\"US1234567890\", \"US0987654321\"],\n",
    "    \"All Time Rank\": [1, 2],\n",
    "    \"Track Score\": [95.5, 88.7],\n",
    "    \"Spotify Streams\": [1000000, 2000000],\n",
    "    \"Spotify Playlist Count\": [150, 200],\n",
    "    \"Spotify Playlist Reach\": [500000, 700000],\n",
    "    \"Spotify Popularity\": [85, 90],\n",
    "    \"YouTube Views\": [300000, 400000],\n",
    "    \"YouTube Likes\": [15000, 20000],\n",
    "    \"TikTok Posts\": [5000, 6000],\n",
    "    \"TikTok Likes\": [25000, 30000],\n",
    "    \"TikTok Views\": [1000000, 1200000],\n",
    "    \"YouTube Playlist Reach\": [100000, 150000],\n",
    "    \"Apple Music Playlist Count\": [50, 60],\n",
    "    \"AirPlay Spins\": [1000, 1200],\n",
    "    \"SiriusXM Spins\": [300, 400],\n",
    "    \"Deezer Playlist Count\": [20, 25],\n",
    "    \"Deezer Playlist Reach\": [80000, 90000],\n",
    "    \"Amazon Playlist Count\": [10, 15],\n",
    "    \"Pandora Streams\": [50000, 60000],\n",
    "    \"Pandora Track Stations\": [100, 120],\n",
    "    \"Soundcloud Streams\": [20000, 25000],\n",
    "    \"Shazam Counts\": [500, 600],\n",
    "    \"Explicit Track\": [True, False]\n",
    "}\n",
    "\n",
    "# Convert the sample data into a DataFrame\n",
    "sample_df = pd.DataFrame(sample_data)\n",
    "\n",
    "# Append the sample data to the track_data DataFrame\n",
    "track_data = track_data.append(sample_df, ignore_index=True)\n",
    "\n",
    "# Display the updated DataFrame\n",
    "track_data"
   ]
  },
  {
   "cell_type": "markdown",
   "metadata": {},
   "source": [
    "# Display Track Information\n",
    "Display the DataFrame containing the track information."
   ]
  },
  {
   "cell_type": "code",
   "execution_count": null,
   "metadata": {},
   "outputs": [],
   "source": [
    "# Display the DataFrame containing the track information\n",
    "track_data"
   ]
  }
 ],
 "metadata": {
  "language_info": {
   "name": "python"
  }
 },
 "nbformat": 4,
 "nbformat_minor": 2
}
